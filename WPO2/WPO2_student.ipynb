{
 "cells": [
  {
   "cell_type": "markdown",
   "metadata": {
    "deletable": false,
    "editable": false,
    "nbgrader": {
     "checksum": "43a885c712843c0acc2772db68411b2f",
     "grade": false,
     "grade_id": "cell-7d39188686aa0d09",
     "locked": true,
     "schema_version": 1,
     "solution": false
    }
   },
   "source": [
    "## Health Information Systems and Decision Support Systems\n",
    "## WPO 2: Data-driven systems  (21/02/20)\n",
    "***\n",
    "*Jakub Ceranka, Pieter Boonen, Panagiotis Gonidakis, Jef Vandemeulebroucke* <br>\n",
    "*Department of Electronics and Informatics (ETRO)* <br>\n",
    "*Vrije Universiteit Brussel, Pleinlaan 2, B-1050 Brussels, Belgium*"
   ]
  },
  {
   "cell_type": "markdown",
   "metadata": {},
   "source": [
    "<font color=blue>Insert students names and IDs here</font>"
   ]
  },
  {
   "cell_type": "markdown",
   "metadata": {
    "deletable": false,
    "editable": false,
    "nbgrader": {
     "checksum": "23125904ad237979c1fee01b8ec7a005",
     "grade": false,
     "grade_id": "cell-6c5875e85168bc04",
     "locked": true,
     "schema_version": 1,
     "solution": false
    }
   },
   "source": [
    "### Goal\n",
    "The goal of this practical session is to get an insight into methods and algorithms for building knowledge-based decision-support systems. Your tasks will involve designing the systems, examining the output, tuning the parameters and validating the performance of your system against the ground-truth predictions done manually by an experienced radiologist. Students must send their notebook via Canvas Assignment functionality (VUB) or Ufora Dropbox before the __5th of March, 2020, midnight__. The grade from this practical session will contribute to your final grade. Questions: [jceranka@etrovub.be](mailto:jceranka@etrovub.be)"
   ]
  },
  {
   "cell_type": "markdown",
   "metadata": {
    "deletable": false,
    "editable": false,
    "nbgrader": {
     "checksum": "f1c399e63ff7ffd2e82beee825b439f7",
     "grade": false,
     "grade_id": "cell-ec1409430738c87f",
     "locked": true,
     "schema_version": 1,
     "solution": false
    }
   },
   "source": [
    "### Libraries\n",
    "\n",
    "During this practical session, the following libraries will be used. You can use different version of libraries, however we recommend the following build:\n",
    "\n",
    "- [__Scikit-fuzzy__](https://pypi.python.org/pypi/scikit-fuzzy): library for fuzzy sets and logic __V 0.3.1__ \n",
    "- [__Numpy__](https://docs.scipy.org/doc/numpy-dev/user/quickstart.html):      library used for scientific computing containing N-dimensional arrays, functions and Fourier transform. __V 1.13.3__ \n",
    "- [__Graphviz__](https://pypi.python.org/pypi/graphviz):     Visualization of graphs. You may need to the perform installation via conda.  __V 0.8.2__ \n",
    "- [__Matplotlib__](https://matplotlib.org/users/pyplot_tutorial.html): plotting library used for the visualization of data from python. __V 2.1.0__ \n",
    "- [__Pgmpy__](http://pgmpy.org/): Module for building and performing inference on probabilistic graphical models __V 0.2.1__ \n",
    "\n",
    "\n",
    "To import any external library, you need to import it using the **import** statement followed by the name of the library and the shortcut. You can additionally check for the module version using __version__ command. Information on updating the libraries using Anaconda can be found  [here](http://conda-test.pydata.org/docs/examples/update.html).\n",
    "<br><br>\n",
    "If the library is not installed in your Anaconda Navigator or Python simply type in your terminal: *conda install package_name* or *pip install package_name*."
   ]
  },
  {
   "cell_type": "markdown",
   "metadata": {
    "deletable": false,
    "editable": false,
    "nbgrader": {
     "checksum": "54de4cef734f2431a1eb7b3924571b35",
     "grade": false,
     "grade_id": "cell-0e6961adb9be6d43",
     "locked": true,
     "schema_version": 1,
     "solution": false
    }
   },
   "source": [
    "## Part 1: A fuzzy logic alert system at the pediatric ICU\n",
    "At the intensive care unit of a pediatric hospital, the staff wants to implement a priority-based alert system that allows to rank the urgency of the different monitors of physiological signs of the infants. The physiological sensor outputs are combined with patient-specific information (age, history, etc,) to determine the urgency. The output of each monitor should be a value between 0 (no alert) and 100 (alert with the highest priority), allowing the output of all monitors to be ranked in terms of urgency. The responsible nurse is notified of the most urgent which needs to be addressed first. "
   ]
  },
  {
   "cell_type": "markdown",
   "metadata": {
    "deletable": false,
    "editable": false,
    "nbgrader": {
     "checksum": "6489a0e353741c8c2346342e08676879",
     "grade": false,
     "grade_id": "cell-d1411f4ab2c769e3",
     "locked": true,
     "schema_version": 1,
     "solution": false
    }
   },
   "source": [
    "### Task 1: Design a monitor system for body temperature\n",
    "The output of a temperature sensor should be combined with the (priorly given) age of the patient. The variables to consider are:\n",
    "\n",
    "* Temperature\n",
    "   - The temperature in degrees Celcius. \n",
    "       * Values of about 35,5 and below are `hypothermia`\n",
    "       * Values of  roughly 37 are  `normal`\n",
    "       * Values between roughly 37,5 and 38 are `elevated`\n",
    "       * Values of around 38,5 indicate `mild fever`\n",
    "       * Values of 39 and higher indicate `high fever`\n",
    "       * Values outside of the range [30,44] are likely to indicate malfunctioning of the sensor\n",
    "       \n",
    "* Age\n",
    "   - The age of the infant in months, from 0 to 36 \n",
    "       * We make a distinction between newborns (0-3 months), babies (3-6 months), infants (6-12 months) and toddlers (12-36 months)\n",
    "\n",
    "* Alert-level\n",
    "   -  A value between 0 and 100\n",
    "       * Five levels are distinguished: no alert, low, moderate, high, critical \n",
    "\n",
    "\n",
    "The behaviour of the monitoring system should be the following. \n",
    "    * For newborns, elevated temperature should give a moderate alert, a mild fever should correspond to a high alert, and a high fever should correspond to critical alert-level. \n",
    "    * Babies with a mild fever should give a moderate alarm, while high fever should be high alert. \n",
    "    * Infants with a mild fever should be a low priority alert, and high fever should be moderate alert. \n",
    "    * Toddlers with a mild and high fever both should give a low alert. \n",
    "    * Hypothermia should always give a high alert level, except for newborns where it should be critical.\n",
    "    * Malfunctioning sensors should always give a moderate alert. \n",
    "The alert level should evolve continuously for ages and temperatures in the correct functioning range of the sensor, and have a logical progression for values not mentioned above. "
   ]
  },
  {
   "cell_type": "markdown",
   "metadata": {
    "deletable": false,
    "editable": false,
    "nbgrader": {
     "checksum": "c8487b8146785485df9c34ca5b05f44a",
     "grade": false,
     "grade_id": "cell-f42f3f8bdabfd1c3",
     "locked": true,
     "schema_version": 1,
     "solution": false
    }
   },
   "source": [
    "Use the packages *skfuzzy* and *matplotlib* to design and visualize a fuzzy logic controller. Instead of *%matplotlib inline* you can use *%matplotlib notebook*, which provide interactive plots.\n"
   ]
  },
  {
   "cell_type": "markdown",
   "metadata": {
    "deletable": false,
    "editable": false,
    "nbgrader": {
     "checksum": "c8a9d40b74053801fda5652958597ec6",
     "grade": false,
     "grade_id": "cell-be3e9070fca0a154",
     "locked": true,
     "schema_version": 1,
     "solution": false
    }
   },
   "source": [
    "### Step 1: Define and visualize the membership funtions\n",
    "Use custom triangular and trapezoid membership functions for the temperature and age, and have at least 1 degree Celcius and 2 months of overlap between functions on each side, respectively. Ensure the total membership is always one. You can use an automatically generated membership function for the alert-level. Have a look at the examples for the syntax (http://pythonhosted.org/scikit-fuzzy/auto_examples/index.html). "
   ]
  },
  {
   "cell_type": "code",
   "execution_count": null,
   "metadata": {},
   "outputs": [],
   "source": []
  },
  {
   "cell_type": "markdown",
   "metadata": {
    "deletable": false,
    "editable": false,
    "nbgrader": {
     "checksum": "cc70368bb1b3d25497aca5a62f43b0ad",
     "grade": false,
     "grade_id": "cell-7c74fdfa799f7d1f",
     "locked": true,
     "schema_version": 1,
     "solution": false
    }
   },
   "source": [
    "### Step 2: Define the rules\n",
    "Translate the desired behaviour given above, to rules for alert levels. Start by only defining those which are given. More may be needed, after inspecting the output (Step 4)."
   ]
  },
  {
   "cell_type": "code",
   "execution_count": null,
   "metadata": {},
   "outputs": [],
   "source": []
  },
  {
   "cell_type": "markdown",
   "metadata": {
    "deletable": false,
    "editable": false,
    "nbgrader": {
     "checksum": "6404427f2e52b8e10af5da45e19d9ab3",
     "grade": false,
     "grade_id": "cell-c426700f701af68a",
     "locked": true,
     "schema_version": 1,
     "solution": false
    }
   },
   "source": [
    "### Step 3: Load and test the system\n",
    "Make a control system by loading the rules. Now verify the output for particular inputs using the control system simulation. Output the alert level, and visualize the alert membership. __Tip:__ use the functions ctrl.ControlSystemSimulation and alert.view(). \n"
   ]
  },
  {
   "cell_type": "code",
   "execution_count": null,
   "metadata": {},
   "outputs": [],
   "source": []
  },
  {
   "cell_type": "markdown",
   "metadata": {
    "deletable": false,
    "editable": false,
    "nbgrader": {
     "checksum": "e4cf6dd3df04886371bacaa573866cd0",
     "grade": false,
     "grade_id": "cell-f2e97b2e207396e0",
     "locked": true,
     "schema_version": 1,
     "solution": false
    }
   },
   "source": [
    "### Step 4: Test the system\n",
    "\n",
    "Make plots of the evolution of the alerts, for the following cases\n",
    "\n",
    "    * For an age of 1 month, the alert level as a function of the temperature [28, 50] with increments of 0.5.\n",
    "    * For an age of 8 months, the alert level as a function of the temperature [28, 50] with increments of 0.5.\n",
    "    * For a temperature of 38.5 degrees Celcius, the alert level as a function of the age [1,36] with increments of 1.\n",
    "    * For a temperature of 40 degrees Celcius, the alert level as a function of the age [1,36] with increments of 1.\n",
    "    \n",
    "Add rules for cases not currently covered (and which may give errors due to sparsity in the inference engine).\n",
    "\n",
    "\n",
    "        "
   ]
  },
  {
   "cell_type": "code",
   "execution_count": null,
   "metadata": {},
   "outputs": [],
   "source": []
  },
  {
   "cell_type": "markdown",
   "metadata": {
    "deletable": false,
    "editable": false,
    "nbgrader": {
     "checksum": "889c8a004a720fecf0981500adcb7f60",
     "grade": false,
     "grade_id": "cell-28fc329affb3aa0a",
     "locked": true,
     "schema_version": 1,
     "solution": false
    }
   },
   "source": [
    "### Step 5:  Visualize the output and tune the system\n",
    "\n",
    "Make a 2D surface plot with the output of the alert system for ages [1,36] and temperatures [28, 46]. Tune the system such that the alert level is always within the no-alert range for temperatures in the range [36.5, 37.5]. You can adjust the system by modifying the membership functions, changing the rules or inference system; till you obtain the desired behaviour.  "
   ]
  },
  {
   "cell_type": "code",
   "execution_count": null,
   "metadata": {},
   "outputs": [],
   "source": []
  },
  {
   "cell_type": "markdown",
   "metadata": {
    "deletable": false,
    "editable": false,
    "nbgrader": {
     "checksum": "e7c615e95d17429479c90b1c78eaf5ec",
     "grade": false,
     "grade_id": "cell-2013c0b47b471367",
     "locked": true,
     "schema_version": 1,
     "solution": false
    }
   },
   "source": [
    "## Part 2: A Bayesian belief network for lung cancer\n",
    "In this exercise we will translate clinical knowledge into a bayesian belief network (the percentages given below are fictive). The goal is to compute the probabilities of presence of cancer, given certain information about the patient. Additionally, we wish to determine the impact on diagnostic tests, when prior information about the patient is given. \n",
    "\n",
    "The changes for lung cancer for someone living a healthy life in a healthy surrounding are slim (3%). They are mainly influenced by smoking (7%), being exposed to pollution (6%), or both (9%). Patients over 50 (about 30% of the population) have the biggest chance of being exposed to pollution (60%), which is significantly more than patients with ages below 50 (10%). Patients over 50 are also more likely to smoke. In fact, one in four males over 50 still smokes, while only 13% of females over 50 smokes. With respect to the population with ages below 50 the difference is remarkable: 20% and 7% for males and females, respectively.  \n",
    "\n",
    "Two tests are primarily done to determine lung cancer: an X-ray scan of the chest, and a Serum Calcium test. Lung cancer has about 85% chance of getting detected using an X-ray. In rare cases (5%), X-ray leads to a positive reading for cases where there is no tumour present. This can be verified using CT imaging. The serum calcium test is cheap, but not very reliable for lung cancer: only 70% sensitivity and a false positive result in about 35% of the negative cases.\n"
   ]
  },
  {
   "cell_type": "markdown",
   "metadata": {
    "deletable": false,
    "editable": false,
    "nbgrader": {
     "checksum": "235c31b8f2c4f7aeb8b0c0b0adc514e2",
     "grade": false,
     "grade_id": "cell-a0adbf81c090464e",
     "locked": true,
     "schema_version": 1,
     "solution": false
    }
   },
   "source": [
    "### Step 1: Design the probalistic graphical model \n",
    "Use the package graphviz to draw the bayesian belief network and visualize the network. For now, focuss on dependencies between the different criteria by establishing edges between the different nodes. You should end up with a graph of seven nodes. \n"
   ]
  },
  {
   "cell_type": "code",
   "execution_count": null,
   "metadata": {},
   "outputs": [],
   "source": []
  },
  {
   "cell_type": "markdown",
   "metadata": {
    "deletable": false,
    "editable": false,
    "nbgrader": {
     "checksum": "381a7689eb2e72ec0ab17a572e9c2d56",
     "grade": false,
     "grade_id": "cell-dd8755a709bbc275",
     "locked": true,
     "schema_version": 1,
     "solution": false
    }
   },
   "source": [
    "### Step 2: Build the probabilistic graphical model\n",
    "Now use the package pgmpy to build the computational probabilistic graphical model, named cancer_model, by specifying the edges. You can verify the model you defined using the cancer_model.edges() and cancer_model.nodes() commands."
   ]
  },
  {
   "cell_type": "code",
   "execution_count": null,
   "metadata": {},
   "outputs": [],
   "source": []
  },
  {
   "cell_type": "markdown",
   "metadata": {
    "deletable": false,
    "editable": false,
    "nbgrader": {
     "checksum": "dfcaa3efadd6a63499a0424276632d6f",
     "grade": false,
     "grade_id": "cell-37df8372decf9827",
     "locked": true,
     "schema_version": 1,
     "solution": false
    }
   },
   "source": [
    "### Step 3: Define the conditional probability distributions (CPDs)\n",
    "Using the knowledge given above, fill in the conditional probabilities for each node using the TabularCPD command. Finding out the order of the probabilities can be a bit tricky. Have a look at http://pgmpy.org/factors.html for an example. "
   ]
  },
  {
   "cell_type": "code",
   "execution_count": null,
   "metadata": {},
   "outputs": [],
   "source": []
  },
  {
   "cell_type": "markdown",
   "metadata": {
    "deletable": false,
    "editable": false,
    "nbgrader": {
     "checksum": "b9905760366dd9c3eaca88eec638d12d",
     "grade": false,
     "grade_id": "cell-bbe50fac4caa7971",
     "locked": true,
     "schema_version": 1,
     "solution": false
    }
   },
   "source": [
    "### Step 4: Associate the CPDs to the model structure, and test the model\n",
    "Next, associate the CPDs to the model structure and check for consistency.\n",
    "\n",
    "Perform inference on you model using VariableElimination and verify the outcome is intuitively correct for all nodes (e.g. chance of cancer should increase given evidence of smoking, etc.). Adjust the definition of the CPDs if needed. "
   ]
  },
  {
   "cell_type": "code",
   "execution_count": null,
   "metadata": {},
   "outputs": [],
   "source": []
  },
  {
   "cell_type": "markdown",
   "metadata": {
    "deletable": false,
    "editable": false,
    "nbgrader": {
     "checksum": "26eba2cdcb4a4d3ba7dbd57a51f6fe91",
     "grade": false,
     "grade_id": "cell-8eab17e49b28ffd7",
     "locked": true,
     "schema_version": 1,
     "solution": false
    }
   },
   "source": [
    "### Step 5: Use your model to compute probabilities and answer questions\n",
    "\n",
    "    * Whithout any information about the patient, what are the chances of having lung cancer, a positive X-ray and a positive serum Calcium test. Explain the discrepancy.  "
   ]
  },
  {
   "cell_type": "code",
   "execution_count": null,
   "metadata": {},
   "outputs": [],
   "source": []
  },
  {
   "cell_type": "markdown",
   "metadata": {
    "deletable": false,
    "editable": false,
    "nbgrader": {
     "checksum": "580f64fb68458825eb3ad3ced1fcc222",
     "grade": false,
     "grade_id": "cell-720eec837b25c346",
     "locked": true,
     "schema_version": 1,
     "solution": false
    }
   },
   "source": [
    "    * What are the probabilities in case we have evidence about the age (>50) and smoking behaviour (smoker) of the patient? Explain the difference with the first case.  "
   ]
  },
  {
   "cell_type": "code",
   "execution_count": null,
   "metadata": {},
   "outputs": [],
   "source": []
  },
  {
   "cell_type": "markdown",
   "metadata": {
    "deletable": false,
    "editable": false,
    "nbgrader": {
     "checksum": "fbf4f5cf12fca8c466c0788d583a8683",
     "grade": false,
     "grade_id": "cell-49414e5c3095804a",
     "locked": true,
     "schema_version": 1,
     "solution": false
    }
   },
   "source": [
    "    * What are the probabilities in case we have evidence of cancer (but not about the about the age and smoking behaviour of the patient)? Explain the difference with the previous cases.  "
   ]
  },
  {
   "cell_type": "code",
   "execution_count": null,
   "metadata": {},
   "outputs": [],
   "source": []
  },
  {
   "cell_type": "markdown",
   "metadata": {
    "deletable": false,
    "editable": false,
    "nbgrader": {
     "checksum": "f0502a0d84c010b35d138b69ef083077",
     "grade": false,
     "grade_id": "cell-2b18c025efb062ae",
     "locked": true,
     "schema_version": 1,
     "solution": false
    }
   },
   "source": [
    "    * What are the probabilities in case we have evidence of cancer, and about the age (>50) and smoking behaviour (smoker) of the patient? Explain the difference with the previous cases.  "
   ]
  },
  {
   "cell_type": "code",
   "execution_count": null,
   "metadata": {},
   "outputs": [],
   "source": []
  }
 ],
 "metadata": {
  "kernelspec": {
   "display_name": "Simple_Elastix_VM_v_1.1",
   "language": "python",
   "name": "simple_elastix_vm_v_1.1"
  },
  "language_info": {
   "codemirror_mode": {
    "name": "ipython",
    "version": 3
   },
   "file_extension": ".py",
   "mimetype": "text/x-python",
   "name": "python",
   "nbconvert_exporter": "python",
   "pygments_lexer": "ipython3",
   "version": "3.5.1"
  }
 },
 "nbformat": 4,
 "nbformat_minor": 2
}
